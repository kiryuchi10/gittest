{
 "cells": [
  {
   "cell_type": "markdown",
   "metadata": {},
   "source": [
    "<center>\n",
    "    <img src=\"https://cf-courses-data.s3.us.cloud-object-storage.appdomain.cloud/IBMDeveloperSkillsNetwork-DS0105EN-SkillsNetwork/labs/Module2/images/SN_web_lightmode.png\" width=\"300\" alt=\"cognitiveclass.ai logo\">\n",
    "</center>\n"
   ]
  },
  {
   "cell_type": "markdown",
   "metadata": {},
   "source": [
    "#### Add your code below following the instructions given in the course\n"
   ]
  },
  {
   "cell_type": "code",
   "execution_count": null,
   "metadata": {},
   "outputs": [],
   "source": [
    "# 연습 2 - 노트북 제목이 있는 마크다운 셀을 만듭니다. (1pt)\n",
    "\n",
    "# 연습 3 - 소개를 위한 마크다운 셀을 만듭니다. (1pt)\n",
    "\n",
    "# 연습 4 - 데이터 과학 언어를 나열하는 마크다운 셀을 만듭니다. (3pt)\n",
    "\n",
    "# 연습 5 - 데이터 과학 라이브러리를 나열하는 마크다운 셀을 만듭니다. (3점)\n",
    "\n",
    "# 연습 6 - 데이터 과학 도구 표가 있는 마크다운 셀 만들기. (3점)\n",
    "\n",
    "# 연습 7 - 산술 표현식 예제를 소개하는 마크다운 셀을 만듭니다. (1점)\n",
    "\n",
    "# 연습 8 - 숫자를 곱하고 더하는 코드 셀 만들기 (2pt)\n",
    "\n",
    "# 연습 9 - 분을 시간으로 변환하는 코드 셀을 만듭니다. (2점)\n",
    "\n",
    "# 연습 10 - 마크다운 셀을 삽입하여 목표를 나열합니다. (3점)\n",
    "\n",
    "# 연습 11 - 작성자의 이름을 표시하는 마크다운 셀을 만듭니다. (2점)\n",
    "\n",
    "# 연습 12 - GitHub를 통해 노트북 공유하기(3점)\n",
    "\n",
    "# 연습 13 - 노트북의 첫 페이지 스크린샷 찍기. (1점)"
   ]
  },
  {
   "cell_type": "markdown",
   "metadata": {},
   "source": [
    "# 연습 2 - 노트북 제목이 있는 마크다운 셀을 만듭니다. (1pt)\n",
    "# 연습 3 - 소개를 위한 마크다운 셀을 만듭니다. (1pt)\n",
    "###데이터 사이언스 시연"
   ]
  },
  {
   "cell_type": "markdown",
   "metadata": {},
   "source": [
    "# 연습 4 - 데이터 과학 언어를 나열하는 마크다운 셀을 만듭니다. (3pt)\n",
    "import numpy as np\n",
    "x=np.arange(1,10)"
   ]
  },
  {
   "cell_type": "markdown",
   "metadata": {},
   "source": [
    "# 연습 5 - 데이터 과학 라이브러리를 나열하는 마크다운 셀을 만듭니다. (3점)\n",
    "import matplotlib.pyplot as plt\n",
    "import seaborn as sns"
   ]
  },
  {
   "cell_type": "markdown",
   "metadata": {},
   "source": [
    "# 연습 6 - 데이터 과학 도구 표가 있는 마크다운 셀 만들기. (3점)\n",
    "| Category      | Tool               | Description                              |\n",
    "|---------------|--------------------|------------------------------------------|\n",
    "| Programming   | Python             | General-purpose language for data science|\n",
    "|               | R                  | Statistical computing and graphics       |\n",
    "|               | Julia              | High-performance language for technical computing|\n",
    "| Data Analysis | Pandas             | Data manipulation and analysis in Python|\n",
    "|               | NumPy              | Numerical computing library in Python   |\n",
    "|               | MATLAB             | Matrix laboratory for numerical computing|\n",
    "| Data Viz      | Matplotlib         | 2D plotting library for Python          |\n",
    "|               | Seaborn            | Statistical data visualization in Python|\n",
    "|               | Plotly             | Interactive web-based data visualization|\n",
    "| ML Frameworks | TensorFlow         | Open-source machine learning framework  |\n",
    "|               | PyTorch            | Deep learning framework by Facebook AI   |\n",
    "|               | Scikit-learn       | Machine learning library in Python      |\n",
    "| Big Data      | Apache Spark       | Unified analytics engine for big data   |\n",
    "|               | Hadoop             | Distributed storage and processing framework|\n",
    "|               | Apache Flink       | Stream processing framework             |"
   ]
  },
  {
   "cell_type": "markdown",
   "metadata": {},
   "source": [
    "# 연습 7 - 산술 표현식 예제를 소개하는 마크다운 셀을 만듭니다. (1점)\n",
    "#### Example 1: Addition\n",
    "\n",
    "```python\n",
    "# Addition\n",
    "result = 10 + 5\n",
    "print(\"Result of addition:\", result)  # Output: 15"
   ]
  },
  {
   "cell_type": "markdown",
   "metadata": {},
   "source": [
    "# 연습 8 - 숫자를 곱하고 더하는 코드 셀 만들기 (2pt)\n",
    "# Define two numbers\n",
    "number1 = 10\n",
    "number2 = 5\n",
    "\n",
    "# Multiply the numbers\n",
    "result_multiply = number1 * number2\n",
    "print(\"Result of multiplication:\", result_multiply)  # Output: 50"
   ]
  },
  {
   "cell_type": "markdown",
   "metadata": {},
   "source": [
    "# 연습 9 - 분을 시간으로 변환하는 코드 셀을 만듭니다. (2점)\n",
    "# 분을 시간으로 변환하는 함수 정의\n",
    "def minutes_to_hours(minutes):\n",
    "    hours = minutes / 60  # 분을 시간으로 변환\n",
    "    return hours\n",
    "\n",
    "# 예시: 120분을 시간으로 변환\n",
    "minutes = 120\n",
    "hours = minutes_to_hours(minutes)\n",
    "print(f\"{minutes} 분은 {hours} 시간입니다.\")"
   ]
  },
  {
   "cell_type": "markdown",
   "metadata": {},
   "source": [
    "# 연습 10 - 마크다운 셀을 삽입하여 목표를 나열합니다. (3점)\n",
    "-데이터 전문가 자격증 습득\n",
    "-AI 모델 서빙 풀스택 개발자 코스 완주\n",
    "-AI/ML 프로젝트 5개 완료 "
   ]
  },
  {
   "cell_type": "markdown",
   "metadata": {},
   "source": [
    "# 연습 11 - 작성자의 이름을 표시하는 마크다운 셀을 만듭니다. (2점)\n",
    "작성자 : 이동현"
   ]
  }
 ],
 "metadata": {
  "kernelspec": {
   "display_name": "Python",
   "language": "python",
   "name": "conda-env-python-py"
  },
  "language_info": {
   "codemirror_mode": {
    "name": "ipython",
    "version": 3
   },
   "file_extension": ".py",
   "mimetype": "text/x-python",
   "name": "python",
   "nbconvert_exporter": "python",
   "pygments_lexer": "ipython3",
   "version": "3.7.12"
  }
 },
 "nbformat": 4,
 "nbformat_minor": 4
}
