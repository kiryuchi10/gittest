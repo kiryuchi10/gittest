{
  "metadata": {
    "kernelspec": {
      "name": "python",
      "display_name": "Python (Pyodide)",
      "language": "python"
    },
    "language_info": {
      "codemirror_mode": {
        "name": "python",
        "version": 3
      },
      "file_extension": ".py",
      "mimetype": "text/x-python",
      "name": "python",
      "nbconvert_exporter": "python",
      "pygments_lexer": "ipython3",
      "version": "3.8"
    }
  },
  "nbformat_minor": 4,
  "nbformat": 4,
  "cells": [
    {
      "cell_type": "markdown",
      "source": "<p style=\"text-align:center\">\n    <a href=\"https://skills.network\" target=\"_blank\">\n    <img src=\"https://cf-courses-data.s3.us.cloud-object-storage.appdomain.cloud/assets/logos/SN_web_lightmode.png\" width=\"300\" alt=\"Skills Network Logo\">\n    </a>\n</p>\n",
      "metadata": {}
    },
    {
      "cell_type": "markdown",
      "source": "# **Practice Project: Insurance Cost Analysis**\n\nEstimated time needed: **75** minutes\n\nIn this project, you have to perform analytics operations on an insurance database that uses the below mentioned parameters.\n\n| Parameter |Description| Content type |\n|---|----|---|\n|age| Age in years| integer |\n|gender| Male or Female|integer (1 or 2)|\n| bmi | Body mass index | float |\n|no_of_children| Number of children | integer|\n|smoker| Whether smoker or not | integer (0 or 1)|\n|region| Which US region - NW, NE, SW, SE | integer (1,2,3 or 4 respectively)| \n|charges| Annual Insurance charges in USD | float|\n\n## Objectives \nIn this project, you will:\n - Load the data as a `pandas` dataframe\n - Clean the data, taking care of the blank entries\n - Run exploratory data analysis (EDA) and identify the attributes that most affect the `charges`\n - Develop single variable and multi variable Linear Regression models for predicting the `charges`\n - Use Ridge regression to refine the performance of Linear regression models. \n \n",
      "metadata": {}
    },
    {
      "cell_type": "markdown",
      "source": "# Setup\n",
      "metadata": {}
    },
    {
      "cell_type": "markdown",
      "source": "For this lab, we will be using the following libraries:\n* `skillsnetwork` to download the data\n*   [`pandas`](https://pandas.pydata.org/?utm_medium=Exinfluencer&utm_source=Exinfluencer&utm_content=000026UJ&utm_term=10006555&utm_id=NA-SkillsNetwork-Channel-SkillsNetworkCoursesIBMML0187ENSkillsNetwork31430127-2021-01-01) for managing the data.\n*   [`numpy`](https://numpy.org/?utm_medium=Exinfluencer&utm_source=Exinfluencer&utm_content=000026UJ&utm_term=10006555&utm_id=NA-SkillsNetwork-Channel-SkillsNetworkCoursesIBMML0187ENSkillsNetwork31430127-2021-01-01) for mathematical operations.\n*   [`sklearn`](https://scikit-learn.org/stable/?utm_medium=Exinfluencer&utm_source=Exinfluencer&utm_content=000026UJ&utm_term=10006555&utm_id=NA-SkillsNetwork-Channel-SkillsNetworkCoursesIBMML0187ENSkillsNetwork31430127-2021-01-01) for machine learning and machine-learning-pipeline related functions.\n*   [`seaborn`](https://seaborn.pydata.org/?utm_medium=Exinfluencer&utm_source=Exinfluencer&utm_content=000026UJ&utm_term=10006555&utm_id=NA-SkillsNetwork-Channel-SkillsNetworkCoursesIBMML0187ENSkillsNetwork31430127-2021-01-01) for visualizing the data.\n*   [`matplotlib`](https://matplotlib.org/?utm_medium=Exinfluencer&utm_source=Exinfluencer&utm_content=000026UJ&utm_term=10006555&utm_id=NA-SkillsNetwork-Channel-SkillsNetworkCoursesIBMML0187ENSkillsNetwork31430127-2021-01-01) for additional plotting tools.\n",
      "metadata": {}
    },
    {
      "cell_type": "markdown",
      "source": "The following required libraries are __not__ pre-installed in the Skills Network Labs environment. __You will need to run the following cell__ to install them:\n",
      "metadata": {}
    },
    {
      "cell_type": "code",
      "source": "import piplite\nawait piplite.install('seaborn')",
      "metadata": {
        "trusted": true
      },
      "outputs": [],
      "execution_count": 1
    },
    {
      "cell_type": "markdown",
      "source": "### Importing Required Libraries\n\n_We recommend you import all required libraries in one place (here):_\n",
      "metadata": {}
    },
    {
      "cell_type": "code",
      "source": "",
      "metadata": {
        "trusted": true
      },
      "outputs": [],
      "execution_count": null
    },
    {
      "cell_type": "markdown",
      "source": "<details>\n    <summary>Click here for Solution</summary>\n\n```python\nimport pandas as pd\nimport matplotlib.pyplot as plt\nimport numpy as np\nimport seaborn as sns\nfrom sklearn.pipeline import Pipeline\nfrom sklearn.preprocessing import StandardScaler, PolynomialFeatures\nfrom sklearn.linear_model import LinearRegression, Ridge\nfrom sklearn.metrics import mean_squared_error, r2_score\nfrom sklearn.model_selection import cross_val_score, train_test_split\n```\n\n</details>\n",
      "metadata": {}
    },
    {
      "cell_type": "markdown",
      "source": "### Download the dataset to this lab environment\n\nRun the cell below to load the dataset to this lab environment.\n",
      "metadata": {}
    },
    {
      "cell_type": "code",
      "source": "from pyodide.http import pyfetch\n\nasync def download(url, filename):\n    response = await pyfetch(url)\n    if response.status == 200:\n        with open(filename, \"wb\") as f:\n            f.write(await response.bytes())",
      "metadata": {
        "trusted": true
      },
      "outputs": [],
      "execution_count": 2
    },
    {
      "cell_type": "code",
      "source": "filepath = 'https://cf-courses-data.s3.us.cloud-object-storage.appdomain.cloud/IBMDeveloperSkillsNetwork-DA0101EN-Coursera/medical_insurance_dataset.csv'",
      "metadata": {
        "trusted": true
      },
      "outputs": [],
      "execution_count": 3
    },
    {
      "cell_type": "code",
      "source": "await download(filepath, \"insurance.csv\")\nfile_name=\"insurance.csv\"",
      "metadata": {
        "trusted": true
      },
      "outputs": [],
      "execution_count": 4
    },
    {
      "cell_type": "code",
      "source": "import pandas as pd\ndf = pd.read_csv(file_name)",
      "metadata": {
        "trusted": true
      },
      "outputs": [],
      "execution_count": 8
    },
    {
      "cell_type": "markdown",
      "source": "> Note: This version of the lab is working on JupyterLite, which requires the dataset to be downloaded to the interface.While working on the downloaded version of this notebook on their local machines(Jupyter Anaconda), the learners can simply **skip the steps above,** and simply use the URL directly in the `pandas.read_csv()` function. You can uncomment and run the statements in the cell below.\n",
      "metadata": {}
    },
    {
      "cell_type": "code",
      "source": "#filepath = 'https://cf-courses-data.s3.us.cloud-object-storage.appdomain.cloud/IBMDeveloperSkillsNetwork-DA0101EN-Coursera/medical_insurance_dataset.csv'\n#df = pd.read_csv(filepath, header=None)",
      "metadata": {
        "trusted": true
      },
      "outputs": [],
      "execution_count": 6
    },
    {
      "cell_type": "markdown",
      "source": "# Task 1 : Import the dataset\n\nImport the dataset into a `pandas` dataframe. Note that there are currently no headers in the CSV file. \n\nPrint the first 10 rows of the dataframe to confirm successful loading.\n",
      "metadata": {}
    },
    {
      "cell_type": "code",
      "source": "df.head(10)",
      "metadata": {
        "trusted": true
      },
      "outputs": [
        {
          "execution_count": 9,
          "output_type": "execute_result",
          "data": {
            "text/plain": "   19  1    27.9  0 1.1  3    16884.924\n0  18  2  33.770  1   0  4   1725.55230\n1  28  2  33.000  3   0  4   4449.46200\n2  33  2  22.705  0   0  1  21984.47061\n3  32  2  28.880  0   0  1   3866.85520\n4  31  1  25.740  0   ?  4   3756.62160\n5  46  1  33.440  1   0  4   8240.58960\n6  37  1  27.740  3   0  1   7281.50560\n7  37  2  29.830  2   0  2   6406.41070\n8  60  1  25.840  0   0  1  28923.13692\n9  25  2  26.220  0   0  2   2721.32080",
            "text/html": "<div>\n<style scoped>\n    .dataframe tbody tr th:only-of-type {\n        vertical-align: middle;\n    }\n\n    .dataframe tbody tr th {\n        vertical-align: top;\n    }\n\n    .dataframe thead th {\n        text-align: right;\n    }\n</style>\n<table border=\"1\" class=\"dataframe\">\n  <thead>\n    <tr style=\"text-align: right;\">\n      <th></th>\n      <th>19</th>\n      <th>1</th>\n      <th>27.9</th>\n      <th>0</th>\n      <th>1.1</th>\n      <th>3</th>\n      <th>16884.924</th>\n    </tr>\n  </thead>\n  <tbody>\n    <tr>\n      <th>0</th>\n      <td>18</td>\n      <td>2</td>\n      <td>33.770</td>\n      <td>1</td>\n      <td>0</td>\n      <td>4</td>\n      <td>1725.55230</td>\n    </tr>\n    <tr>\n      <th>1</th>\n      <td>28</td>\n      <td>2</td>\n      <td>33.000</td>\n      <td>3</td>\n      <td>0</td>\n      <td>4</td>\n      <td>4449.46200</td>\n    </tr>\n    <tr>\n      <th>2</th>\n      <td>33</td>\n      <td>2</td>\n      <td>22.705</td>\n      <td>0</td>\n      <td>0</td>\n      <td>1</td>\n      <td>21984.47061</td>\n    </tr>\n    <tr>\n      <th>3</th>\n      <td>32</td>\n      <td>2</td>\n      <td>28.880</td>\n      <td>0</td>\n      <td>0</td>\n      <td>1</td>\n      <td>3866.85520</td>\n    </tr>\n    <tr>\n      <th>4</th>\n      <td>31</td>\n      <td>1</td>\n      <td>25.740</td>\n      <td>0</td>\n      <td>?</td>\n      <td>4</td>\n      <td>3756.62160</td>\n    </tr>\n    <tr>\n      <th>5</th>\n      <td>46</td>\n      <td>1</td>\n      <td>33.440</td>\n      <td>1</td>\n      <td>0</td>\n      <td>4</td>\n      <td>8240.58960</td>\n    </tr>\n    <tr>\n      <th>6</th>\n      <td>37</td>\n      <td>1</td>\n      <td>27.740</td>\n      <td>3</td>\n      <td>0</td>\n      <td>1</td>\n      <td>7281.50560</td>\n    </tr>\n    <tr>\n      <th>7</th>\n      <td>37</td>\n      <td>2</td>\n      <td>29.830</td>\n      <td>2</td>\n      <td>0</td>\n      <td>2</td>\n      <td>6406.41070</td>\n    </tr>\n    <tr>\n      <th>8</th>\n      <td>60</td>\n      <td>1</td>\n      <td>25.840</td>\n      <td>0</td>\n      <td>0</td>\n      <td>1</td>\n      <td>28923.13692</td>\n    </tr>\n    <tr>\n      <th>9</th>\n      <td>25</td>\n      <td>2</td>\n      <td>26.220</td>\n      <td>0</td>\n      <td>0</td>\n      <td>2</td>\n      <td>2721.32080</td>\n    </tr>\n  </tbody>\n</table>\n</div>"
          },
          "metadata": {}
        }
      ],
      "execution_count": 9
    },
    {
      "cell_type": "markdown",
      "source": "<details>\n    <summary>Click here for Solution</summary>\n\n```python\ndf = pd.read_csv(path, header=None)\nprint(df.head(10))\n```\n\n</details>\n",
      "metadata": {}
    },
    {
      "cell_type": "markdown",
      "source": "Add the headers to the dataframe, as mentioned in the project scenario. \n",
      "metadata": {}
    },
    {
      "cell_type": "code",
      "source": "headers=df.columns.to_list()\nheaders\ndf.columns=headers = [\"age\", \"gender\", \"bmi\", \"no_of_children\", \"smoker\", \"region\", \"charges\"]\ndf",
      "metadata": {
        "trusted": true
      },
      "outputs": [
        {
          "execution_count": 13,
          "output_type": "execute_result",
          "data": {
            "text/plain": "     age  gender     bmi  no_of_children smoker  region      charges\n0     18       2  33.770               1      0       4   1725.55230\n1     28       2  33.000               3      0       4   4449.46200\n2     33       2  22.705               0      0       1  21984.47061\n3     32       2  28.880               0      0       1   3866.85520\n4     31       1  25.740               0      ?       4   3756.62160\n...   ..     ...     ...             ...    ...     ...          ...\n2766  47       1  45.320               1      0       4   8569.86180\n2767  21       1  34.600               0      0       3   2020.17700\n2768  19       2  26.030               1      1       1  16450.89470\n2769  23       2  18.715               0      0       1  21595.38229\n2770  54       2  31.600               0      0       3   9850.43200\n\n[2771 rows x 7 columns]",
            "text/html": "<div>\n<style scoped>\n    .dataframe tbody tr th:only-of-type {\n        vertical-align: middle;\n    }\n\n    .dataframe tbody tr th {\n        vertical-align: top;\n    }\n\n    .dataframe thead th {\n        text-align: right;\n    }\n</style>\n<table border=\"1\" class=\"dataframe\">\n  <thead>\n    <tr style=\"text-align: right;\">\n      <th></th>\n      <th>age</th>\n      <th>gender</th>\n      <th>bmi</th>\n      <th>no_of_children</th>\n      <th>smoker</th>\n      <th>region</th>\n      <th>charges</th>\n    </tr>\n  </thead>\n  <tbody>\n    <tr>\n      <th>0</th>\n      <td>18</td>\n      <td>2</td>\n      <td>33.770</td>\n      <td>1</td>\n      <td>0</td>\n      <td>4</td>\n      <td>1725.55230</td>\n    </tr>\n    <tr>\n      <th>1</th>\n      <td>28</td>\n      <td>2</td>\n      <td>33.000</td>\n      <td>3</td>\n      <td>0</td>\n      <td>4</td>\n      <td>4449.46200</td>\n    </tr>\n    <tr>\n      <th>2</th>\n      <td>33</td>\n      <td>2</td>\n      <td>22.705</td>\n      <td>0</td>\n      <td>0</td>\n      <td>1</td>\n      <td>21984.47061</td>\n    </tr>\n    <tr>\n      <th>3</th>\n      <td>32</td>\n      <td>2</td>\n      <td>28.880</td>\n      <td>0</td>\n      <td>0</td>\n      <td>1</td>\n      <td>3866.85520</td>\n    </tr>\n    <tr>\n      <th>4</th>\n      <td>31</td>\n      <td>1</td>\n      <td>25.740</td>\n      <td>0</td>\n      <td>?</td>\n      <td>4</td>\n      <td>3756.62160</td>\n    </tr>\n    <tr>\n      <th>...</th>\n      <td>...</td>\n      <td>...</td>\n      <td>...</td>\n      <td>...</td>\n      <td>...</td>\n      <td>...</td>\n      <td>...</td>\n    </tr>\n    <tr>\n      <th>2766</th>\n      <td>47</td>\n      <td>1</td>\n      <td>45.320</td>\n      <td>1</td>\n      <td>0</td>\n      <td>4</td>\n      <td>8569.86180</td>\n    </tr>\n    <tr>\n      <th>2767</th>\n      <td>21</td>\n      <td>1</td>\n      <td>34.600</td>\n      <td>0</td>\n      <td>0</td>\n      <td>3</td>\n      <td>2020.17700</td>\n    </tr>\n    <tr>\n      <th>2768</th>\n      <td>19</td>\n      <td>2</td>\n      <td>26.030</td>\n      <td>1</td>\n      <td>1</td>\n      <td>1</td>\n      <td>16450.89470</td>\n    </tr>\n    <tr>\n      <th>2769</th>\n      <td>23</td>\n      <td>2</td>\n      <td>18.715</td>\n      <td>0</td>\n      <td>0</td>\n      <td>1</td>\n      <td>21595.38229</td>\n    </tr>\n    <tr>\n      <th>2770</th>\n      <td>54</td>\n      <td>2</td>\n      <td>31.600</td>\n      <td>0</td>\n      <td>0</td>\n      <td>3</td>\n      <td>9850.43200</td>\n    </tr>\n  </tbody>\n</table>\n<p>2771 rows × 7 columns</p>\n</div>"
          },
          "metadata": {}
        }
      ],
      "execution_count": 13
    },
    {
      "cell_type": "markdown",
      "source": "<details>\n    <summary>Click here for Solution</summary>\n\n```python\nheaders = [\"age\", \"gender\", \"bmi\", \"no_of_children\", \"smoker\", \"region\", \"charges\"]\ndf.columns = headers\n```\n\n</details>\n",
      "metadata": {}
    },
    {
      "cell_type": "markdown",
      "source": "Now, replace the '?' entries with 'NaN' values.\n",
      "metadata": {}
    },
    {
      "cell_type": "code",
      "source": "df.isna().sum()\ndf=df.replace('?','NaN')\ndf.value_counts()",
      "metadata": {
        "trusted": true
      },
      "outputs": [
        {
          "execution_count": 34,
          "output_type": "execute_result",
          "data": {
            "text/plain": "age  gender  bmi     no_of_children  smoker  region  charges    \n54   1       35.815  3               0       1       12495.29085    4\n45   1       25.700  3               0       3       9101.79800     4\n18   2       23.210  0               0       4       1121.87390     4\n             23.320  1               0       4       1711.02680     4\n56   1       39.820  0               0       4       11090.71780    4\n                                                                   ..\n53   1       28.100  3               NaN     3       11741.72600    1\n20   1       28.975  0               NaN     1       2257.47525     1\n38   2       27.835  2               0       1       6455.86265     1\n                                     NaN     1       6455.86265     1\nNaN  2       29.925  1               1       2       22462.04375    1\nLength: 1348, dtype: int64"
          },
          "metadata": {}
        }
      ],
      "execution_count": 34
    },
    {
      "cell_type": "markdown",
      "source": "<details>\n    <summary>Click here for Solution</summary>\n\n```python\ndf.replace('?', np.nan, inplace = True)\n```\n\n</details>\n",
      "metadata": {}
    },
    {
      "cell_type": "markdown",
      "source": "# Task 2 : Data Wrangling\n",
      "metadata": {}
    },
    {
      "cell_type": "markdown",
      "source": "Use `dataframe.info()` to identify the columns that have some 'Null' (or NaN) information.\n",
      "metadata": {}
    },
    {
      "cell_type": "code",
      "source": "df.info()",
      "metadata": {
        "trusted": true
      },
      "outputs": [
        {
          "name": "stdout",
          "text": "<class 'pandas.core.frame.DataFrame'>\nRangeIndex: 2771 entries, 0 to 2770\nData columns (total 7 columns):\n #   Column          Non-Null Count  Dtype  \n---  ------          --------------  -----  \n 0   age             2771 non-null   object \n 1   gender          2771 non-null   int64  \n 2   bmi             2771 non-null   float64\n 3   no_of_children  2771 non-null   int64  \n 4   smoker          2771 non-null   object \n 5   region          2771 non-null   int64  \n 6   charges         2771 non-null   float64\ndtypes: float64(2), int64(3), object(2)\nmemory usage: 130.0+ KB\n",
          "output_type": "stream"
        }
      ],
      "execution_count": 23
    },
    {
      "cell_type": "code",
      "source": "type(df['age'][0])",
      "metadata": {
        "trusted": true
      },
      "outputs": [
        {
          "execution_count": 28,
          "output_type": "execute_result",
          "data": {
            "text/plain": "str"
          },
          "metadata": {}
        }
      ],
      "execution_count": 28
    },
    {
      "cell_type": "code",
      "source": "df['age']=df['age'].apply(lambda x: float(x))",
      "metadata": {
        "trusted": true
      },
      "outputs": [],
      "execution_count": 36
    },
    {
      "cell_type": "markdown",
      "source": "<details>\n    <summary>Click here for Solution</summary>\n\n```python\nprint(df.info())\n```\n\n</details>\n",
      "metadata": {}
    },
    {
      "cell_type": "markdown",
      "source": "Handle missing data:\n\n- For continuous attributes (e.g., age), replace missing values with the mean.\n- For categorical attributes (e.g., smoker), replace missing values with the most frequent value.\n- Update the data types of the respective columns.\n- Verify the update using `df.info()`.\n",
      "metadata": {}
    },
    {
      "cell_type": "code",
      "source": "df[\"smoker\"]",
      "metadata": {
        "trusted": true
      },
      "outputs": [
        {
          "execution_count": 38,
          "output_type": "execute_result",
          "data": {
            "text/plain": "0         0\n1         0\n2         0\n3         0\n4       NaN\n       ... \n2766      0\n2767      0\n2768      1\n2769      0\n2770      0\nName: smoker, Length: 2771, dtype: object"
          },
          "metadata": {}
        }
      ],
      "execution_count": 38
    },
    {
      "cell_type": "code",
      "source": "import numpy as np\n# smoker is a categorical attribute, replace with most frequent entry\nis_smoker = df['smoker'].value_counts().idxmax()\ndf[\"smoker\"].replace('NaN', is_smoker, inplace=True)\n\n# age is a continuous variable, replace with mean age\nmean_age = df['age'].astype('float').mean(axis=0)\ndf[\"age\"].replace('NaN', mean_age, inplace=True)\n\n# Update data types\ndf[[\"age\",\"smoker\"]] = df[[\"age\",\"smoker\"]].astype(\"int\")\n\nprint(df.info())",
      "metadata": {
        "trusted": true
      },
      "outputs": [
        {
          "name": "stdout",
          "text": "<class 'pandas.core.frame.DataFrame'>\nRangeIndex: 2771 entries, 0 to 2770\nData columns (total 7 columns):\n #   Column          Non-Null Count  Dtype  \n---  ------          --------------  -----  \n 0   age             2771 non-null   int32  \n 1   gender          2771 non-null   int64  \n 2   bmi             2771 non-null   float64\n 3   no_of_children  2771 non-null   int64  \n 4   smoker          2771 non-null   int32  \n 5   region          2771 non-null   int64  \n 6   charges         2771 non-null   float64\ndtypes: float64(2), int32(2), int64(3)\nmemory usage: 130.0 KB\nNone\n",
          "output_type": "stream"
        }
      ],
      "execution_count": 40
    },
    {
      "cell_type": "markdown",
      "source": "<details>\n    <summary>Click here for Solution</summary>\n\n```python\n# smoker is a categorical attribute, replace with most frequent entry\nis_smoker = df['smoker'].value_counts().idxmax()\ndf[\"smoker\"].replace(np.nan, is_smoker, inplace=True)\n\n# age is a continuous variable, replace with mean age\nmean_age = df['age'].astype('float').mean(axis=0)\ndf[\"age\"].replace(np.nan, mean_age, inplace=True)\n\n# Update data types\ndf[[\"age\",\"smoker\"]] = df[[\"age\",\"smoker\"]].astype(\"int\")\n\nprint(df.info())\n```\n\n</details>\n",
      "metadata": {}
    },
    {
      "cell_type": "markdown",
      "source": "Also note, that the `charges` column has values which are more than 2 decimal places long. Update the `charges` column such that all values are rounded to nearest 2 decimal places. Verify conversion by printing the first 5 values of the updated dataframe.\n",
      "metadata": {}
    },
    {
      "cell_type": "code",
      "source": "df['charges']=df['charges'].apply(lambda x: round(x,2))",
      "metadata": {
        "trusted": true
      },
      "outputs": [],
      "execution_count": 43
    },
    {
      "cell_type": "markdown",
      "source": "<details>\n    <summary>Click here for Solution</summary>\n\n```python\ndf[[\"charges\"]] = np.round(df[[\"charges\"]],2)\nprint(df.head())\n```\n</details>\n",
      "metadata": {}
    },
    {
      "cell_type": "markdown",
      "source": "# Task 3 : Exploratory Data Analysis (EDA)\n\nImplement the regression plot for `charges` with respect to `bmi`. \n",
      "metadata": {}
    },
    {
      "cell_type": "code",
      "source": "import seaborn as sns\nsns.regplot(x=\"charges\",y=\"bmi\",data=df)\n",
      "metadata": {
        "trusted": true
      },
      "outputs": [
        {
          "execution_count": 46,
          "output_type": "execute_result",
          "data": {
            "text/plain": "<AxesSubplot:xlabel='charges', ylabel='bmi'>"
          },
          "metadata": {}
        },
        {
          "output_type": "display_data",
          "data": {
            "text/plain": "<Figure size 640x480 with 1 Axes>",
            "image/png": "[encoded data removed]"
          },
          "metadata": {}
        }
      ],
      "execution_count": 46
    },
    {
      "cell_type": "markdown",
      "source": "<details>\n    <summary>Click here for Solution</summary>\n\n```python\nsns.regplot(x=\"bmi\", y=\"charges\", data=df, line_kws={\"color\": \"red\"})\nplt.ylim(0,)\n```\n</details>\n",
      "metadata": {}
    },
    {
      "cell_type": "markdown",
      "source": "Implement the box plot for `charges` with respect to `smoker`.\n",
      "metadata": {}
    },
    {
      "cell_type": "code",
      "source": "sns.boxplot(x=\"charges\",y=\"smoker\",data=df)",
      "metadata": {
        "trusted": true
      },
      "outputs": [
        {
          "execution_count": 54,
          "output_type": "execute_result",
          "data": {
            "text/plain": "<AxesSubplot:xlabel='charges', ylabel='smoker'>"
          },
          "metadata": {}
        },
        {
          "output_type": "display_data",
          "data": {
            "text/plain": "<Figure size 640x480 with 1 Axes>",
            "image/png": "[encoded data removed]"
          },
          "metadata": {}
        }
      ],
      "execution_count": 54
    },
    {
      "cell_type": "markdown",
      "source": "<details>\n    <summary>Click here for Solution</summary>\n\n```python\nsns.boxplot(x=\"smoker\", y=\"charges\", data=df)\n```\n</details>\n",
      "metadata": {}
    },
    {
      "cell_type": "markdown",
      "source": "Print the correlation matrix for the dataset.\n",
      "metadata": {}
    },
    {
      "cell_type": "code",
      "source": "print(df.corr())",
      "metadata": {
        "trusted": true
      },
      "outputs": [
        {
          "name": "stdout",
          "text": "                     age    gender       bmi  no_of_children    smoker  \\\nage             1.000000 -0.026584  0.112859        0.037126 -0.022290   \ngender         -0.026584  1.000000  0.042766        0.015693  0.083125   \nbmi             0.112859  0.042766  1.000000       -0.001642  0.011824   \nno_of_children  0.037126  0.015693 -0.001642        1.000000  0.007016   \nsmoker         -0.022290  0.083125  0.011824        0.007016  1.000000   \nregion         -0.006969  0.022360  0.271200       -0.025594  0.053839   \ncharges         0.298892  0.062959  0.199906        0.066551  0.789141   \n\n                  region   charges  \nage            -0.006969  0.298892  \ngender          0.022360  0.062959  \nbmi             0.271200  0.199906  \nno_of_children -0.025594  0.066551  \nsmoker          0.053839  0.789141  \nregion          1.000000  0.054018  \ncharges         0.054018  1.000000  \n",
          "output_type": "stream"
        }
      ],
      "execution_count": 51
    },
    {
      "cell_type": "markdown",
      "source": "<details>\n    <summary>Click here for Solution</summary>\n\n```python\nprint(df.corr())\n```\n</details>\n",
      "metadata": {}
    },
    {
      "cell_type": "markdown",
      "source": "# Task 4 : Model Development\n\nFit a linear regression model that may be used to predict the `charges` value, just by using the `smoker` attribute of the dataset. Print the $ R^2 $ score of this model.\n",
      "metadata": {}
    },
    {
      "cell_type": "code",
      "source": "import pandas as pd\nfrom sklearn.linear_model import LogisticRegression\nfrom sklearn.linear_model import LinearRegression\nfrom sklearn import preprocessing\nimport numpy as np\nfrom sklearn.neighbors import KNeighborsClassifier\nfrom sklearn.model_selection import train_test_split\nfrom sklearn.neighbors import KNeighborsClassifier\nfrom sklearn.tree import DecisionTreeClassifier\nfrom sklearn import svm\nfrom sklearn.metrics import jaccard_score\nfrom sklearn.metrics import f1_score\nfrom sklearn.metrics import log_loss\nfrom sklearn.metrics import confusion_matrix, accuracy_score\nimport sklearn.metrics as metrics\nfrom sklearn.preprocessing import MinMaxScaler\nfrom sklearn.preprocessing import StandardScaler\nfrom sklearn.preprocessing import RobustScaler\nfrom sklearn.preprocessing import PolynomialFeatures\nfrom sklearn.linear_model import LinearRegression\n\nX = df[['smoker']]\nY = df['charges']\nlm = LinearRegression()\nlm.fit(X,Y)\nprint(lm.score(X, Y))",
      "metadata": {
        "trusted": true
      },
      "outputs": [
        {
          "name": "stdout",
          "text": "0.6227430386475937\n",
          "output_type": "stream"
        }
      ],
      "execution_count": 65
    },
    {
      "cell_type": "markdown",
      "source": "<details>\n    <summary>Click here for Solution</summary>\n\n```python\nX = df[['smoker']]\nY = df['charges']\nlm = LinearRegression()\nlm.fit(X,Y)\nprint(lm.score(X, Y))\n```\n</details>\n",
      "metadata": {}
    },
    {
      "cell_type": "markdown",
      "source": "Fit a linear regression model that may be used to predict the `charges` value, just by using all other attributes of the dataset. Print the $ R^2 $ score of this model. You should see an improvement in the performance.\n",
      "metadata": {}
    },
    {
      "cell_type": "code",
      "source": "Z = df[[\"age\", \"gender\", \"bmi\", \"no_of_children\", \"smoker\", \"region\"]]\nlm.fit(Z,Y)\nprint(lm.score(Z, Y))",
      "metadata": {
        "trusted": true
      },
      "outputs": [
        {
          "name": "stdout",
          "text": "0.7505888660223157\n",
          "output_type": "stream"
        }
      ],
      "execution_count": 60
    },
    {
      "cell_type": "markdown",
      "source": "<details>\n    <summary>Click here for Solution</summary>\n\n```python\n# definition of Y and lm remain same as used in last cell. \nZ = df[[\"age\", \"gender\", \"bmi\", \"no_of_children\", \"smoker\", \"region\"]]\nlm.fit(Z,Y)\nprint(lm.score(Z, Y))\n```\n</details>\n",
      "metadata": {}
    },
    {
      "cell_type": "markdown",
      "source": "Create a training pipeline that uses `StandardScaler()`, `PolynomialFeatures()` and `LinearRegression()` to create a model that can predict the `charges` value using all the other attributes of the dataset. There should be even further improvement in the performance.\n",
      "metadata": {}
    },
    {
      "cell_type": "code",
      "source": "# Y and Z use the same values as defined in previous cells \nfrom sklearn.pipeline import Pipeline\nfrom sklearn.metrics import r2_score\n\nInput=[('scale',StandardScaler()), ('polynomial', PolynomialFeatures(include_bias=False)), ('model', LinearRegression())]\npipe=Pipeline(Input)\nZ = Z.astype(float)\npipe.fit(Z,Y)\nypipe=pipe.predict(Z)\nprint(r2_score(Y,ypipe))",
      "metadata": {
        "trusted": true
      },
      "outputs": [
        {
          "name": "stdout",
          "text": "0.8453663431836196\n",
          "output_type": "stream"
        }
      ],
      "execution_count": 69
    },
    {
      "cell_type": "markdown",
      "source": "<details>\n    <summary>Click here for Solution</summary>\n\n```python\n# Y and Z use the same values as defined in previous cells \nInput=[('scale',StandardScaler()), ('polynomial', PolynomialFeatures(include_bias=False)), ('model', LinearRegression())]\npipe=Pipeline(Input)\nZ = Z.astype(float)\npipe.fit(Z,Y)\nypipe=pipe.predict(Z)\nprint(r2_score(Y,ypipe))\n```\n</details>\n",
      "metadata": {}
    },
    {
      "cell_type": "markdown",
      "source": "# Task 5 : Model Refinement\n\nSplit the data into training and testing subsets, assuming that 20% of the data will be reserved for testing.\n",
      "metadata": {}
    },
    {
      "cell_type": "code",
      "source": "x_train, x_test, y_train, y_test = train_test_split(Z, Y, test_size=0.2, random_state=1)",
      "metadata": {
        "trusted": true
      },
      "outputs": [],
      "execution_count": 70
    },
    {
      "cell_type": "markdown",
      "source": "<details>\n    <summary>Click here for Solution</summary>\n\n```python\n# Z and Y hold same values as in previous cells\nx_train, x_test, y_train, y_test = train_test_split(Z, Y, test_size=0.2, random_state=1)\n```\n</details>\n",
      "metadata": {}
    },
    {
      "cell_type": "markdown",
      "source": "Initialize a Ridge regressor that used hyperparameter $ \\alpha = 0.1 $. Fit the model using training data data subset. Print the $ R^2 $ score for the testing data.\n",
      "metadata": {}
    },
    {
      "cell_type": "code",
      "source": "from sklearn.linear_model import Ridge\nRidgeModel=Ridge(alpha=0.1)\nRidgeModel.fit(x_train, y_train)\nyhat = RidgeModel.predict(x_test)\nprint(r2_score(y_test,yhat))",
      "metadata": {
        "trusted": true
      },
      "outputs": [
        {
          "name": "stdout",
          "text": "0.725419884365019\n",
          "output_type": "stream"
        }
      ],
      "execution_count": 73
    },
    {
      "cell_type": "markdown",
      "source": "<details>\n    <summary>Click here for Solution</summary>\n\n```python\n# x_train, x_test, y_train, y_test hold same values as in previous cells\nRidgeModel=Ridge(alpha=0.1)\nRidgeModel.fit(x_train, y_train)\nyhat = RidgeModel.predict(x_test)\nprint(r2_score(y_test,yhat))\n```\n</details>\n",
      "metadata": {}
    },
    {
      "cell_type": "markdown",
      "source": "Apply polynomial transformation to the training parameters with degree=2. Use this transformed feature set to fit the same regression model, as above, using the training subset. Print the $ R^2 $ score for the testing subset.\n",
      "metadata": {}
    },
    {
      "cell_type": "code",
      "source": "# x_train, x_test, y_train, y_test hold same values as in previous cells\npr = PolynomialFeatures(degree=2)\nx_train_pr = pr.fit_transform(x_train)\nx_test_pr = pr.fit_transform(x_test)\nRidgeModel.fit(x_train_pr, y_train)\ny_hat = RidgeModel.predict(x_test_pr)\nprint(r2_score(y_test,y_hat))",
      "metadata": {
        "trusted": true
      },
      "outputs": [
        {
          "name": "stdout",
          "text": "0.8208413223837483\n",
          "output_type": "stream"
        }
      ],
      "execution_count": 74
    },
    {
      "cell_type": "markdown",
      "source": "<details>\n    <summary>Click here for Solution</summary>\n\n```python\n# x_train, x_test, y_train, y_test hold same values as in previous cells\npr = PolynomialFeatures(degree=2)\nx_train_pr = pr.fit_transform(x_train)\nx_test_pr = pr.fit_transform(x_test)\nRidgeModel.fit(x_train_pr, y_train)\ny_hat = RidgeModel.predict(x_test_pr)\nprint(r2_score(y_test,y_hat))\n```\n</details>\n",
      "metadata": {}
    },
    {
      "cell_type": "markdown",
      "source": "# Congratulations! You have completed this project\n",
      "metadata": {}
    },
    {
      "cell_type": "markdown",
      "source": "## Authors\n",
      "metadata": {}
    },
    {
      "cell_type": "markdown",
      "source": "[Abhishek Gagneja](https://www.coursera.org/instructor/~129186572)\n\n[Vicky Kuo](https://author.skills.network/instructors/vicky_kuo)\n",
      "metadata": {}
    },
    {
      "cell_type": "markdown",
      "source": "## Change Log\n",
      "metadata": {}
    },
    {
      "cell_type": "markdown",
      "source": "|Date (YYYY-MM-DD)|Version|Changed By|Change Description|\n|-|-|-|-|\n|2023-09-16|0.1|Abhishek Gagneja|Initial Version Created|\n|2023-09-19|0.2|Vicky Kuo|Reviewed and Revised|\n",
      "metadata": {}
    },
    {
      "cell_type": "markdown",
      "source": "<h3> Copyright © 2023 IBM Corporation. All rights reserved. </h3>\n",
      "metadata": {}
    }
  ]
}